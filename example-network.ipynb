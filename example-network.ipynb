{
 "metadata": {
  "name": "",
  "signature": "sha256:01ae315d87c991662905fae625a865cb68b2afe28f96e2fe3a88a96e1d0b1405"
 },
 "nbformat": 3,
 "nbformat_minor": 0,
 "worksheets": [
  {
   "cells": [
    {
     "cell_type": "code",
     "collapsed": false,
     "input": [
      "import datetime\n",
      "\n",
      "import numpy as np\n",
      "import matplotlib.pyplot as plt\n",
      "from matplotlib import finance\n",
      "from matplotlib.collections import LineCollection\n",
      "\n",
      "from sklearn import cluster, covariance, manifold"
     ],
     "language": "python",
     "metadata": {},
     "outputs": [],
     "prompt_number": 1
    },
    {
     "cell_type": "code",
     "collapsed": false,
     "input": [
      "d1 = datetime.datetime(2003, 1, 1)\n",
      "d2 = datetime.datetime(2008, 1, 1)"
     ],
     "language": "python",
     "metadata": {},
     "outputs": [],
     "prompt_number": 2
    },
    {
     "cell_type": "code",
     "collapsed": false,
     "input": [
      "symbol_dict = {\n",
      "    'TOT': 'Total',\n",
      "    'XOM': 'Exxon',\n",
      "    'CVX': 'Chevron',\n",
      "    'COP': 'ConocoPhillips',\n",
      "    'VLO': 'Valero Energy',\n",
      "    'MSFT': 'Microsoft',\n",
      "    'IBM': 'IBM',\n",
      "    'TWX': 'Time Warner',\n",
      "    'CMCSA': 'Comcast',\n",
      "    'CVC': 'Cablevision',\n",
      "    'YHOO': 'Yahoo',\n",
      "    'DELL': 'Dell',\n",
      "    'HPQ': 'HP',\n",
      "    'AMZN': 'Amazon',\n",
      "    'TM': 'Toyota',\n",
      "    'CAJ': 'Canon',\n",
      "    'MTU': 'Mitsubishi',\n",
      "    'SNE': 'Sony',\n",
      "    'F': 'Ford',\n",
      "    'HMC': 'Honda',\n",
      "    'NAV': 'Navistar',\n",
      "    'NOC': 'Northrop Grumman',\n",
      "    'BA': 'Boeing',\n",
      "    'KO': 'Coca Cola',\n",
      "    'MMM': '3M',\n",
      "    'MCD': 'Mc Donalds',\n",
      "    'PEP': 'Pepsi',\n",
      "    'MDLZ': 'Kraft Foods',\n",
      "    'K': 'Kellogg',\n",
      "    'UN': 'Unilever',\n",
      "    'MAR': 'Marriott',\n",
      "    'PG': 'Procter Gamble',\n",
      "    'CL': 'Colgate-Palmolive',\n",
      "    'GE': 'General Electrics',\n",
      "    'WFC': 'Wells Fargo',\n",
      "    'JPM': 'JPMorgan Chase',\n",
      "    'AIG': 'AIG',\n",
      "    'AXP': 'American express',\n",
      "    'BAC': 'Bank of America',\n",
      "    'GS': 'Goldman Sachs',\n",
      "    'AAPL': 'Apple',\n",
      "    'SAP': 'SAP',\n",
      "    'CSCO': 'Cisco',\n",
      "    'TXN': 'Texas instruments',\n",
      "    'XRX': 'Xerox',\n",
      "    'LMT': 'Lookheed Martin',\n",
      "    'WMT': 'Wal-Mart',\n",
      "    'WBA': 'Walgreen',\n",
      "    'HD': 'Home Depot',\n",
      "    'GSK': 'GlaxoSmithKline',\n",
      "    'PFE': 'Pfizer',\n",
      "    'SNY': 'Sanofi-Aventis',\n",
      "    'NVS': 'Novartis',\n",
      "    'KMB': 'Kimberly-Clark',\n",
      "    'R': 'Ryder',\n",
      "    'GD': 'General Dynamics',\n",
      "    'RTN': 'Raytheon',\n",
      "    'CVS': 'CVS',\n",
      "    'CAT': 'Caterpillar',\n",
      "    'DD': 'DuPont de Nemours'}"
     ],
     "language": "python",
     "metadata": {},
     "outputs": [],
     "prompt_number": 3
    },
    {
     "cell_type": "code",
     "collapsed": false,
     "input": [
      "symbols, names = np.array(list(symbol_dict.items())).T"
     ],
     "language": "python",
     "metadata": {},
     "outputs": [],
     "prompt_number": 4
    },
    {
     "cell_type": "code",
     "collapsed": false,
     "input": [
      "quotes = [finance.quotes_historical_yahoo(symbol, d1, d2, asobject=True)\n",
      "          for symbol in symbols]\n",
      "\n",
      "open = np.array([q.open for q in quotes]).astype(np.float)\n",
      "close = np.array([q.close for q in quotes]).astype(np.float)"
     ],
     "language": "python",
     "metadata": {},
     "outputs": [
      {
       "output_type": "stream",
       "stream": "stderr",
       "text": [
        "/Users/vibhor-mav/Library/Enthought/Canopy_64bit/User/lib/python2.7/site-packages/matplotlib/finance.py:485: MatplotlibDeprecationWarning: This function has been deprecated in 1.4 in favor of `quotes_historical_yahoo_ochl`, which maintains the original argument order, or `quotes_historical_yahoo_ohlc`, which uses the open-high-low-close order. This function will be removed in 1.5\n",
        "  mplDeprecation)\n"
       ]
      }
     ],
     "prompt_number": 5
    },
    {
     "cell_type": "code",
     "collapsed": false,
     "input": [
      "variation = close - open"
     ],
     "language": "python",
     "metadata": {},
     "outputs": [],
     "prompt_number": 6
    },
    {
     "cell_type": "code",
     "collapsed": false,
     "input": [
      "variation.shape"
     ],
     "language": "python",
     "metadata": {},
     "outputs": [
      {
       "metadata": {},
       "output_type": "pyout",
       "prompt_number": 28,
       "text": [
        "(60, 1258)"
       ]
      }
     ],
     "prompt_number": 28
    },
    {
     "cell_type": "code",
     "collapsed": false,
     "input": [
      "edge_model = covariance.GraphLassoCV()"
     ],
     "language": "python",
     "metadata": {},
     "outputs": [],
     "prompt_number": 7
    },
    {
     "cell_type": "code",
     "collapsed": false,
     "input": [
      "X = variation.copy().T\n",
      "X /= X.std(axis=0)\n",
      "edge_model.fit(X)\n"
     ],
     "language": "python",
     "metadata": {},
     "outputs": [
      {
       "output_type": "stream",
       "stream": "stderr",
       "text": [
        "/Users/vibhor-mav/Library/Enthought/Canopy_64bit/User/lib/python2.7/site-packages/sklearn/covariance/graph_lasso_.py:221: RuntimeWarning: invalid value encountered in multiply\n",
        "  * coefs)\n",
        "/Users/vibhor-mav/Library/Enthought/Canopy_64bit/User/lib/python2.7/site-packages/sklearn/covariance/graph_lasso_.py:223: RuntimeWarning: invalid value encountered in multiply\n",
        "  * coefs)\n",
        "/Users/vibhor-mav/Library/Enthought/Canopy_64bit/User/lib/python2.7/site-packages/sklearn/covariance/graph_lasso_.py:54: RuntimeWarning: invalid value encountered in absolute\n",
        "  - np.abs(np.diag(precision_)).sum())\n",
        "/Users/vibhor-mav/Library/Enthought/Canopy_64bit/User/lib/python2.7/site-packages/numpy/linalg/linalg.py:1676: RuntimeWarning: invalid value encountered in slogdet\n",
        "  sign, logdet = _umath_linalg.slogdet(a, signature=signature)\n",
        "/Users/vibhor-mav/Library/Enthought/Canopy_64bit/User/lib/python2.7/site-packages/sklearn/covariance/graph_lasso_.py:41: RuntimeWarning: invalid value encountered in absolute\n",
        "  - np.abs(np.diag(precision_)).sum())\n",
        "/Users/vibhor-mav/Library/Enthought/Canopy_64bit/User/lib/python2.7/site-packages/sklearn/covariance/graph_lasso_.py:235: RuntimeWarning: invalid value encountered in absolute\n",
        "  if np.abs(d_gap) < tol:\n"
       ]
      },
      {
       "metadata": {},
       "output_type": "pyout",
       "prompt_number": 8,
       "text": [
        "GraphLassoCV(alphas=4, assume_centered=False, cv=None, max_iter=100,\n",
        "       mode='cd', n_jobs=1, n_refinements=4, tol=0.0001, verbose=False)"
       ]
      }
     ],
     "prompt_number": 8
    },
    {
     "cell_type": "code",
     "collapsed": false,
     "input": [
      "X.shape"
     ],
     "language": "python",
     "metadata": {},
     "outputs": [
      {
       "metadata": {},
       "output_type": "pyout",
       "prompt_number": 29,
       "text": [
        "(1258, 60)"
       ]
      }
     ],
     "prompt_number": 29
    },
    {
     "cell_type": "code",
     "collapsed": false,
     "input": [
      "names"
     ],
     "language": "python",
     "metadata": {},
     "outputs": [
      {
       "metadata": {},
       "output_type": "pyout",
       "prompt_number": 33,
       "text": [
        "array(['ConocoPhillips', 'American express', 'Raytheon', 'Boeing', 'Apple',\n",
        "       'Pepsi', 'Navistar', 'GlaxoSmithKline', 'Microsoft',\n",
        "       'Kimberly-Clark', 'Ryder', 'SAP', 'Goldman Sachs',\n",
        "       'Colgate-Palmolive', 'Wal-Mart', 'General Electrics', 'Sony',\n",
        "       'Pfizer', 'Amazon', 'Marriott', 'Novartis', 'Coca Cola', '3M',\n",
        "       'Comcast', 'Sanofi-Aventis', 'IBM', 'Chevron', 'Wells Fargo',\n",
        "       'DuPont de Nemours', 'CVS', 'Total', 'Caterpillar', 'Canon',\n",
        "       'Bank of America', 'Walgreen', 'AIG', 'Time Warner', 'Home Depot',\n",
        "       'Texas instruments', 'Valero Energy', 'Ford', 'Cablevision',\n",
        "       'Toyota', 'Procter Gamble', 'Lookheed Martin', 'Kellogg', 'Honda',\n",
        "       'General Dynamics', 'HP', 'Dell', 'Mitsubishi', 'Xerox', 'Yahoo',\n",
        "       'Exxon', 'JPMorgan Chase', 'Mc Donalds', 'Cisco',\n",
        "       'Northrop Grumman', 'Kraft Foods', 'Unilever'], \n",
        "      dtype='|S17')"
       ]
      }
     ],
     "prompt_number": 33
    },
    {
     "cell_type": "code",
     "collapsed": false,
     "input": [
      "_, labels = cluster.affinity_propagation(edge_model.covariance_)\n",
      "n_labels = labels.max()"
     ],
     "language": "python",
     "metadata": {},
     "outputs": [],
     "prompt_number": 9
    },
    {
     "cell_type": "code",
     "collapsed": false,
     "input": [
      "n_labels"
     ],
     "language": "python",
     "metadata": {},
     "outputs": [
      {
       "metadata": {},
       "output_type": "pyout",
       "prompt_number": 30,
       "text": [
        "11"
       ]
      }
     ],
     "prompt_number": 30
    },
    {
     "cell_type": "code",
     "collapsed": false,
     "input": [
      "for i in range(n_labels + 1):\n",
      "    print('Cluster %i: %s' % ((i + 1), ', '.join(names[labels == i])))"
     ],
     "language": "python",
     "metadata": {},
     "outputs": [
      {
       "output_type": "stream",
       "stream": "stdout",
       "text": [
        "Cluster 1: Pepsi, Coca Cola, Kellogg\n",
        "Cluster 2: Apple, Amazon, Yahoo\n",
        "Cluster 3: GlaxoSmithKline, Novartis, Sanofi-Aventis\n",
        "Cluster 4: Comcast, Time Warner, Cablevision\n",
        "Cluster 5: ConocoPhillips, Chevron, Total, Valero Energy, Exxon\n",
        "Cluster 6: CVS, Walgreen\n",
        "Cluster 7: Navistar, Sony, Marriott, Caterpillar, Canon, Toyota, Honda, Mitsubishi, Xerox, Unilever\n",
        "Cluster 8: Kimberly-Clark, Colgate-Palmolive, Procter Gamble\n",
        "Cluster 9: American express, Ryder, Goldman Sachs, Wal-Mart, General Electrics, Pfizer, Wells Fargo, DuPont de Nemours, Bank of America, AIG, Home Depot, Ford, JPMorgan Chase, Mc Donalds\n",
        "Cluster 10: Microsoft, SAP, 3M, IBM, Texas instruments, HP, Dell, Cisco\n",
        "Cluster 11: Raytheon, Boeing, Lookheed Martin, General Dynamics, Northrop Grumman\n",
        "Cluster 12: Kraft Foods\n"
       ]
      }
     ],
     "prompt_number": 10
    },
    {
     "cell_type": "code",
     "collapsed": false,
     "input": [
      "labels"
     ],
     "language": "python",
     "metadata": {},
     "outputs": [
      {
       "metadata": {},
       "output_type": "pyout",
       "prompt_number": 32,
       "text": [
        "array([ 4,  8, 10, 10,  1,  0,  6,  2,  9,  7,  8,  9,  8,  7,  8,  8,  6,\n",
        "        8,  1,  6,  2,  0,  9,  3,  2,  9,  4,  8,  8,  5,  4,  6,  6,  8,\n",
        "        5,  8,  3,  8,  9,  4,  8,  3,  6,  7, 10,  0,  6, 10,  9,  9,  6,\n",
        "        6,  1,  4,  8,  8,  9, 10, 11,  6])"
       ]
      }
     ],
     "prompt_number": 32
    },
    {
     "cell_type": "code",
     "collapsed": false,
     "input": [
      "variation"
     ],
     "language": "python",
     "metadata": {},
     "outputs": [
      {
       "metadata": {},
       "output_type": "pyout",
       "prompt_number": 12,
       "text": [
        "array([[ 0.13213474, -0.03240962,  0.20692684, ..., -0.15183682,\n",
        "         0.07310437, -0.449888  ],\n",
        "       [ 0.63786549,  0.08064699,  1.00445052, ..., -1.12094083,\n",
        "        -0.7618868 ,  1.02460932],\n",
        "       [ 0.34560196,  0.01440008,  0.20880046, ..., -0.80029422,\n",
        "        -0.44016422, -0.586646  ],\n",
        "       ..., \n",
        "       [ 0.92072628, -0.13530505,  0.29700569, ..., -0.62850748,\n",
        "        -0.33953074, -0.18782831],\n",
        "       [ 0.0092814 , -0.06032654, -0.1624159 , ..., -0.30253293,\n",
        "        -0.02653744, -0.08492152],\n",
        "       [ 0.06449839,  0.01290011, -0.01720222, ..., -0.19613808,\n",
        "        -0.05280681, -0.64122707]])"
       ]
      }
     ],
     "prompt_number": 12
    },
    {
     "cell_type": "code",
     "collapsed": false,
     "input": [
      "symbols"
     ],
     "language": "python",
     "metadata": {},
     "outputs": [
      {
       "metadata": {},
       "output_type": "pyout",
       "prompt_number": 13,
       "text": [
        "array(['COP', 'AXP', 'RTN', 'BA', 'AAPL', 'PEP', 'NAV', 'GSK', 'MSFT',\n",
        "       'KMB', 'R', 'SAP', 'GS', 'CL', 'WMT', 'GE', 'SNE', 'PFE', 'AMZN',\n",
        "       'MAR', 'NVS', 'KO', 'MMM', 'CMCSA', 'SNY', 'IBM', 'CVX', 'WFC',\n",
        "       'DD', 'CVS', 'TOT', 'CAT', 'CAJ', 'BAC', 'WBA', 'AIG', 'TWX', 'HD',\n",
        "       'TXN', 'VLO', 'F', 'CVC', 'TM', 'PG', 'LMT', 'K', 'HMC', 'GD',\n",
        "       'HPQ', 'DELL', 'MTU', 'XRX', 'YHOO', 'XOM', 'JPM', 'MCD', 'CSCO',\n",
        "       'NOC', 'MDLZ', 'UN'], \n",
        "      dtype='|S17')"
       ]
      }
     ],
     "prompt_number": 13
    },
    {
     "cell_type": "code",
     "collapsed": false,
     "input": [
      "names"
     ],
     "language": "python",
     "metadata": {},
     "outputs": [
      {
       "metadata": {},
       "output_type": "pyout",
       "prompt_number": 14,
       "text": [
        "array(['ConocoPhillips', 'American express', 'Raytheon', 'Boeing', 'Apple',\n",
        "       'Pepsi', 'Navistar', 'GlaxoSmithKline', 'Microsoft',\n",
        "       'Kimberly-Clark', 'Ryder', 'SAP', 'Goldman Sachs',\n",
        "       'Colgate-Palmolive', 'Wal-Mart', 'General Electrics', 'Sony',\n",
        "       'Pfizer', 'Amazon', 'Marriott', 'Novartis', 'Coca Cola', '3M',\n",
        "       'Comcast', 'Sanofi-Aventis', 'IBM', 'Chevron', 'Wells Fargo',\n",
        "       'DuPont de Nemours', 'CVS', 'Total', 'Caterpillar', 'Canon',\n",
        "       'Bank of America', 'Walgreen', 'AIG', 'Time Warner', 'Home Depot',\n",
        "       'Texas instruments', 'Valero Energy', 'Ford', 'Cablevision',\n",
        "       'Toyota', 'Procter Gamble', 'Lookheed Martin', 'Kellogg', 'Honda',\n",
        "       'General Dynamics', 'HP', 'Dell', 'Mitsubishi', 'Xerox', 'Yahoo',\n",
        "       'Exxon', 'JPMorgan Chase', 'Mc Donalds', 'Cisco',\n",
        "       'Northrop Grumman', 'Kraft Foods', 'Unilever'], \n",
        "      dtype='|S17')"
       ]
      }
     ],
     "prompt_number": 14
    },
    {
     "cell_type": "code",
     "collapsed": false,
     "input": [
      "variation"
     ],
     "language": "python",
     "metadata": {},
     "outputs": [
      {
       "metadata": {},
       "output_type": "pyout",
       "prompt_number": 15,
       "text": [
        "array([[ 0.13213474, -0.03240962,  0.20692684, ..., -0.15183682,\n",
        "         0.07310437, -0.449888  ],\n",
        "       [ 0.63786549,  0.08064699,  1.00445052, ..., -1.12094083,\n",
        "        -0.7618868 ,  1.02460932],\n",
        "       [ 0.34560196,  0.01440008,  0.20880046, ..., -0.80029422,\n",
        "        -0.44016422, -0.586646  ],\n",
        "       ..., \n",
        "       [ 0.92072628, -0.13530505,  0.29700569, ..., -0.62850748,\n",
        "        -0.33953074, -0.18782831],\n",
        "       [ 0.0092814 , -0.06032654, -0.1624159 , ..., -0.30253293,\n",
        "        -0.02653744, -0.08492152],\n",
        "       [ 0.06449839,  0.01290011, -0.01720222, ..., -0.19613808,\n",
        "        -0.05280681, -0.64122707]])"
       ]
      }
     ],
     "prompt_number": 15
    },
    {
     "cell_type": "code",
     "collapsed": false,
     "input": [
      "len(variation)"
     ],
     "language": "python",
     "metadata": {},
     "outputs": [
      {
       "metadata": {},
       "output_type": "pyout",
       "prompt_number": 16,
       "text": [
        "60"
       ]
      }
     ],
     "prompt_number": 16
    },
    {
     "cell_type": "code",
     "collapsed": false,
     "input": [
      "import pandas as pd\n"
     ],
     "language": "python",
     "metadata": {},
     "outputs": [],
     "prompt_number": 17
    },
    {
     "cell_type": "code",
     "collapsed": false,
     "input": [
      "X"
     ],
     "language": "python",
     "metadata": {},
     "outputs": [
      {
       "metadata": {},
       "output_type": "pyout",
       "prompt_number": 18,
       "text": [
        "array([[ 0.3004881 ,  1.26246246,  0.96334667, ...,  2.17718772,\n",
        "         0.05198404,  0.58033873],\n",
        "       [-0.07370283,  0.15961641,  0.04013944, ..., -0.31994797,\n",
        "        -0.33788199,  0.11607162],\n",
        "       [ 0.47057307,  1.98800703,  0.58201993, ...,  0.70231203,\n",
        "        -0.90967267, -0.15478086],\n",
        "       ..., \n",
        "       [-0.34529267, -2.21856448, -2.23077663, ..., -1.48619498,\n",
        "        -1.69445193, -1.76479649],\n",
        "       [ 0.16624691, -1.50792527, -1.22693384, ..., -0.80286853,\n",
        "        -0.14863316, -0.47514118],\n",
        "       [-1.02309194,  2.02790531, -1.63524382, ..., -0.44414665,\n",
        "        -0.47563561, -5.76958489]])"
       ]
      }
     ],
     "prompt_number": 18
    },
    {
     "cell_type": "code",
     "collapsed": false,
     "input": [
      "names"
     ],
     "language": "python",
     "metadata": {},
     "outputs": [
      {
       "metadata": {},
       "output_type": "pyout",
       "prompt_number": 20,
       "text": [
        "array(['ConocoPhillips', 'American express', 'Raytheon', 'Boeing', 'Apple',\n",
        "       'Pepsi', 'Navistar', 'GlaxoSmithKline', 'Microsoft',\n",
        "       'Kimberly-Clark', 'Ryder', 'SAP', 'Goldman Sachs',\n",
        "       'Colgate-Palmolive', 'Wal-Mart', 'General Electrics', 'Sony',\n",
        "       'Pfizer', 'Amazon', 'Marriott', 'Novartis', 'Coca Cola', '3M',\n",
        "       'Comcast', 'Sanofi-Aventis', 'IBM', 'Chevron', 'Wells Fargo',\n",
        "       'DuPont de Nemours', 'CVS', 'Total', 'Caterpillar', 'Canon',\n",
        "       'Bank of America', 'Walgreen', 'AIG', 'Time Warner', 'Home Depot',\n",
        "       'Texas instruments', 'Valero Energy', 'Ford', 'Cablevision',\n",
        "       'Toyota', 'Procter Gamble', 'Lookheed Martin', 'Kellogg', 'Honda',\n",
        "       'General Dynamics', 'HP', 'Dell', 'Mitsubishi', 'Xerox', 'Yahoo',\n",
        "       'Exxon', 'JPMorgan Chase', 'Mc Donalds', 'Cisco',\n",
        "       'Northrop Grumman', 'Kraft Foods', 'Unilever'], \n",
        "      dtype='|S17')"
       ]
      }
     ],
     "prompt_number": 20
    },
    {
     "cell_type": "code",
     "collapsed": false,
     "input": [
      "labels"
     ],
     "language": "python",
     "metadata": {},
     "outputs": [
      {
       "metadata": {},
       "output_type": "pyout",
       "prompt_number": 22,
       "text": [
        "array([ 4,  8, 10, 10,  1,  0,  6,  2,  9,  7,  8,  9,  8,  7,  8,  8,  6,\n",
        "        8,  1,  6,  2,  0,  9,  3,  2,  9,  4,  8,  8,  5,  4,  6,  6,  8,\n",
        "        5,  8,  3,  8,  9,  4,  8,  3,  6,  7, 10,  0,  6, 10,  9,  9,  6,\n",
        "        6,  1,  4,  8,  8,  9, 10, 11,  6])"
       ]
      }
     ],
     "prompt_number": 22
    },
    {
     "cell_type": "code",
     "collapsed": false,
     "input": [
      "edge_model.covariance_"
     ],
     "language": "python",
     "metadata": {},
     "outputs": [
      {
       "metadata": {},
       "output_type": "pyout",
       "prompt_number": 24,
       "text": [
        "array([[ 1.        ,  0.18794273,  0.090947  , ...,  0.1138274 ,\n",
        "         0.0503053 ,  0.2150822 ],\n",
        "       [ 0.18794273,  1.        ,  0.1420549 , ...,  0.15504921,\n",
        "         0.08570494,  0.28357741],\n",
        "       [ 0.090947  ,  0.1420549 ,  1.        , ...,  0.35463023,\n",
        "         0.03760638,  0.15167361],\n",
        "       ..., \n",
        "       [ 0.1138274 ,  0.15504921,  0.35463023, ...,  1.        ,\n",
        "         0.03751026,  0.13458419],\n",
        "       [ 0.0503053 ,  0.08570494,  0.03760638, ...,  0.03751026,\n",
        "         1.        ,  0.14032947],\n",
        "       [ 0.2150822 ,  0.28357741,  0.15167361, ...,  0.13458419,\n",
        "         0.14032947,  1.        ]])"
       ]
      }
     ],
     "prompt_number": 24
    },
    {
     "cell_type": "code",
     "collapsed": false,
     "input": [
      "X"
     ],
     "language": "python",
     "metadata": {},
     "outputs": [
      {
       "metadata": {},
       "output_type": "pyout",
       "prompt_number": 25,
       "text": [
        "array([[ 0.3004881 ,  1.26246246,  0.96334667, ...,  2.17718772,\n",
        "         0.05198404,  0.58033873],\n",
        "       [-0.07370283,  0.15961641,  0.04013944, ..., -0.31994797,\n",
        "        -0.33788199,  0.11607162],\n",
        "       [ 0.47057307,  1.98800703,  0.58201993, ...,  0.70231203,\n",
        "        -0.90967267, -0.15478086],\n",
        "       ..., \n",
        "       [-0.34529267, -2.21856448, -2.23077663, ..., -1.48619498,\n",
        "        -1.69445193, -1.76479649],\n",
        "       [ 0.16624691, -1.50792527, -1.22693384, ..., -0.80286853,\n",
        "        -0.14863316, -0.47514118],\n",
        "       [-1.02309194,  2.02790531, -1.63524382, ..., -0.44414665,\n",
        "        -0.47563561, -5.76958489]])"
       ]
      }
     ],
     "prompt_number": 25
    },
    {
     "cell_type": "code",
     "collapsed": false,
     "input": [],
     "language": "python",
     "metadata": {},
     "outputs": []
    }
   ],
   "metadata": {}
  }
 ]
}