{
 "metadata": {
  "name": "",
  "signature": "sha256:eea74d8c10b8f8b6f21fa48e7f1f9d91256591ea0f6bdfb29beae14403215f73"
 },
 "nbformat": 3,
 "nbformat_minor": 0,
 "worksheets": [
  {
   "cells": [
    {
     "cell_type": "markdown",
     "metadata": {},
     "source": [
      "Import The baisc packages for Analyis"
     ]
    },
    {
     "cell_type": "markdown",
     "metadata": {},
     "source": [
      "Stock Analyis of last 20 days"
     ]
    },
    {
     "cell_type": "code",
     "collapsed": false,
     "input": [
      "%matplotlib inline\n",
      "import re\n",
      "import nltk\n",
      "from nltk.corpus import stopwords\n",
      "import json\n",
      "from pylab import *\n",
      "import datetime\n",
      "import pandas as pd\n",
      "from pandas import DataFrame, Series\n",
      "from pandas.io.json import json_normalize\n",
      "from pandas.tools.plotting import scatter_matrix\n",
      "import pandas.io.data as web\n",
      "from pandas.io.data import DataReader\n",
      "from pandas.io.data import get_quote_yahoo, _yahoo_codes\n",
      "from sklearn.feature_extraction.text import CountVectorizer\n",
      "import matplotlib.pyplot as plt\n",
      "pd.options.display.max_columns = 100\n",
      "pd.options.display.max_rows = 500\n",
      "pd.options.display.max_colwidth = 100\n",
      "import requests\n",
      "import Quandl"
     ],
     "language": "python",
     "metadata": {},
     "outputs": [],
     "prompt_number": 91
    },
    {
     "cell_type": "markdown",
     "metadata": {},
     "source": [
      "Extarcting the S&P 500.Extract day for 30 days from todays date.QUANDL DATA base was used.Define a function that can ectract the Quandl database. # Column names:\n"
     ]
    },
    {
     "cell_type": "markdown",
     "metadata": {},
     "source": [
      "Features:\n",
      "    1. 'Date',\n",
      "    2. 'Open',\n",
      "    3. 'High',\n",
      "    4. 'Low',\n",
      "    5. 'Close',\n",
      "    6. 'Volume',\n",
      "    7. 'Ex-Dividend',\n",
      "    8. 'Split Ratio',\n",
      "    9. 'Adj. Open',\n",
      "    10. 'Adj. High',\n",
      "    11. 'Adj. Low',\n",
      "    12. 'Adj. Close',\n",
      "    13. Adj. Volume'"
     ]
    },
    {
     "cell_type": "code",
     "collapsed": false,
     "input": [
      "def getstockdata(stock):\n",
      "    url_prefix = \"https://www.quandl.com/api/v3/datasets/WIKI\"\n",
      "\n",
      "    today = datetime.date.today()    \n",
      "    startdate = today - datetime.timedelta(30)\n",
      "\n",
      "    quandl_api_call_string = \"%s/%s.json?start_date=%s&end_date=%s\"%(url_prefix,stock,startdate,today)\n",
      "    print quandl_api_call_string\n",
      "    \n",
      "    # Grab the data from Quandl \n",
      "    r = requests.get(quandl_api_call_string)\n",
      "\n",
      "    # Load data into a pandas dataframe\n",
      "    df0 = pd.read_json(r.text)['dataset']\n",
      "    df  = pd.DataFrame(df0['data'],columns=df0['column_names'])\n",
      "    df['Date'] = pd.to_datetime(df['Date'])  \n",
      "    col =['Date','Close','Adj. Close','Volume','High','Low']\n",
      "    return df.loc[:,col]"
     ],
     "language": "python",
     "metadata": {},
     "outputs": [],
     "prompt_number": 92
    },
    {
     "cell_type": "code",
     "collapsed": false,
     "input": [
      "x1 = getstockdata(\"GOOG\")"
     ],
     "language": "python",
     "metadata": {},
     "outputs": [
      {
       "output_type": "stream",
       "stream": "stdout",
       "text": [
        "https://www.quandl.com/api/v3/datasets/WIKI/GOOG.json?start_date=2015-08-17&end_date=2015-09-16\n"
       ]
      }
     ],
     "prompt_number": 93
    },
    {
     "cell_type": "code",
     "collapsed": false,
     "input": [
      "sector_wise = pd.read_csv(\"/Volumes/vibhor-sd/Data_Incubator_Challenge/SP500.csv\")\n",
      "sector = sector_wise.groupby(\"Sector\")\n",
      "industry_divide = sector.count()\n",
      "\n"
     ],
     "language": "python",
     "metadata": {},
     "outputs": [],
     "prompt_number": 85
    },
    {
     "cell_type": "code",
     "collapsed": false,
     "input": [
      "industry_divide\n"
     ],
     "language": "python",
     "metadata": {},
     "outputs": [
      {
       "html": [
        "<div style=\"max-width:1500px;overflow:auto;\">\n",
        "<table border=\"1\" class=\"dataframe\">\n",
        "  <thead>\n",
        "    <tr style=\"text-align: right;\">\n",
        "      <th></th>\n",
        "      <th>Ticker</th>\n",
        "      <th>Code</th>\n",
        "      <th>Name</th>\n",
        "    </tr>\n",
        "    <tr>\n",
        "      <th>Sector</th>\n",
        "      <th></th>\n",
        "      <th></th>\n",
        "      <th></th>\n",
        "    </tr>\n",
        "  </thead>\n",
        "  <tbody>\n",
        "    <tr>\n",
        "      <th>Consumer Discretionary</th>\n",
        "      <td>82</td>\n",
        "      <td>82</td>\n",
        "      <td>82</td>\n",
        "    </tr>\n",
        "    <tr>\n",
        "      <th>Consumer Staples</th>\n",
        "      <td>40</td>\n",
        "      <td>40</td>\n",
        "      <td>40</td>\n",
        "    </tr>\n",
        "    <tr>\n",
        "      <th>Energy</th>\n",
        "      <td>43</td>\n",
        "      <td>43</td>\n",
        "      <td>43</td>\n",
        "    </tr>\n",
        "    <tr>\n",
        "      <th>Financials</th>\n",
        "      <td>84</td>\n",
        "      <td>84</td>\n",
        "      <td>84</td>\n",
        "    </tr>\n",
        "    <tr>\n",
        "      <th>Health Care</th>\n",
        "      <td>55</td>\n",
        "      <td>55</td>\n",
        "      <td>55</td>\n",
        "    </tr>\n",
        "    <tr>\n",
        "      <th>Industrials</th>\n",
        "      <td>63</td>\n",
        "      <td>63</td>\n",
        "      <td>63</td>\n",
        "    </tr>\n",
        "    <tr>\n",
        "      <th>Information Technology</th>\n",
        "      <td>65</td>\n",
        "      <td>65</td>\n",
        "      <td>65</td>\n",
        "    </tr>\n",
        "    <tr>\n",
        "      <th>Materials</th>\n",
        "      <td>29</td>\n",
        "      <td>29</td>\n",
        "      <td>29</td>\n",
        "    </tr>\n",
        "    <tr>\n",
        "      <th>Telecommunication Services</th>\n",
        "      <td>5</td>\n",
        "      <td>5</td>\n",
        "      <td>5</td>\n",
        "    </tr>\n",
        "    <tr>\n",
        "      <th>Utilities</th>\n",
        "      <td>30</td>\n",
        "      <td>30</td>\n",
        "      <td>30</td>\n",
        "    </tr>\n",
        "  </tbody>\n",
        "</table>\n",
        "</div>"
       ],
       "metadata": {},
       "output_type": "pyout",
       "prompt_number": 24,
       "text": [
        "                            Ticker  Code  Name\n",
        "Sector                                        \n",
        "Consumer Discretionary          82    82    82\n",
        "Consumer Staples                40    40    40\n",
        "Energy                          43    43    43\n",
        "Financials                      84    84    84\n",
        "Health Care                     55    55    55\n",
        "Industrials                     63    63    63\n",
        "Information Technology          65    65    65\n",
        "Materials                       29    29    29\n",
        "Telecommunication Services       5     5     5\n",
        "Utilities                       30    30    30"
       ]
      }
     ],
     "prompt_number": 24
    },
    {
     "cell_type": "code",
     "collapsed": false,
     "input": [
      "from bokeh.charts import Donut, output_file, show\n",
      "output_file('/Volumes/vibhor-sd/Data_Incubator_Challenge/donut.html')\n",
      "data = [82,40,43,84,55,63,65,29,5,30]\n",
      "donut = Donut(data,[\"Consumer Discretionary\",\"Consumer Staples\",\"Energy\",\"Financial\",\"Health Care\",\"Industrial\",\"Information Technology\",\"Material\",\"Telecommunication\",\"Utilities\"])\n",
      "                    "
     ],
     "language": "python",
     "metadata": {},
     "outputs": [],
     "prompt_number": 42
    },
    {
     "cell_type": "code",
     "collapsed": false,
     "input": [
      "from random import sample\n",
      "\n",
      "rindex =  np.array(sample(xrange(len(sector_wise)), 10))\n"
     ],
     "language": "python",
     "metadata": {},
     "outputs": [],
     "prompt_number": 54
    },
    {
     "cell_type": "code",
     "collapsed": false,
     "input": [
      "portfolio = sector_wise.ix[rindex]"
     ],
     "language": "python",
     "metadata": {},
     "outputs": [],
     "prompt_number": 55
    },
    {
     "cell_type": "code",
     "collapsed": false,
     "input": [
      "portfolio"
     ],
     "language": "python",
     "metadata": {},
     "outputs": [
      {
       "html": [
        "<div style=\"max-width:1500px;overflow:auto;\">\n",
        "<table border=\"1\" class=\"dataframe\">\n",
        "  <thead>\n",
        "    <tr style=\"text-align: right;\">\n",
        "      <th></th>\n",
        "      <th>Ticker</th>\n",
        "      <th>Code</th>\n",
        "      <th>Name</th>\n",
        "      <th>Sector</th>\n",
        "    </tr>\n",
        "  </thead>\n",
        "  <tbody>\n",
        "    <tr>\n",
        "      <th>306</th>\n",
        "      <td>MNST</td>\n",
        "      <td>GOOG/NASDAQ_MNST</td>\n",
        "      <td>Monster Beverage</td>\n",
        "      <td>Consumer Staples</td>\n",
        "    </tr>\n",
        "    <tr>\n",
        "      <th>141</th>\n",
        "      <td>DISCA</td>\n",
        "      <td>GOOG/NASDAQ_DISCA</td>\n",
        "      <td>Discovery Communications</td>\n",
        "      <td>Consumer Discretionary</td>\n",
        "    </tr>\n",
        "    <tr>\n",
        "      <th>188</th>\n",
        "      <td>FMC</td>\n",
        "      <td>GOOG/NYSE_FMC</td>\n",
        "      <td>FMC Corp</td>\n",
        "      <td>Materials</td>\n",
        "    </tr>\n",
        "    <tr>\n",
        "      <th>146</th>\n",
        "      <td>DOW</td>\n",
        "      <td>GOOG/NYSE_DOW</td>\n",
        "      <td>Dow Chemical</td>\n",
        "      <td>Materials</td>\n",
        "    </tr>\n",
        "    <tr>\n",
        "      <th>12</th>\n",
        "      <td>A</td>\n",
        "      <td>GOOG/NYSE_A</td>\n",
        "      <td>Agilent Technologies</td>\n",
        "      <td>Health Care</td>\n",
        "    </tr>\n",
        "    <tr>\n",
        "      <th>254</th>\n",
        "      <td>KMB</td>\n",
        "      <td>GOOG/NYSE_KMB</td>\n",
        "      <td>Kimberly-Clark</td>\n",
        "      <td>Consumer Staples</td>\n",
        "    </tr>\n",
        "    <tr>\n",
        "      <th>24</th>\n",
        "      <td>MO</td>\n",
        "      <td>GOOG/NYSE_MO</td>\n",
        "      <td>Altria Group</td>\n",
        "      <td>Consumer Staples</td>\n",
        "    </tr>\n",
        "    <tr>\n",
        "      <th>199</th>\n",
        "      <td>GM</td>\n",
        "      <td>GOOG/NYSE_GM</td>\n",
        "      <td>General Motors</td>\n",
        "      <td>Consumer Discretionary</td>\n",
        "    </tr>\n",
        "    <tr>\n",
        "      <th>454</th>\n",
        "      <td>UNH</td>\n",
        "      <td>GOOG/NYSE_UNH</td>\n",
        "      <td>UnitedHealth Group</td>\n",
        "      <td>Health Care</td>\n",
        "    </tr>\n",
        "    <tr>\n",
        "      <th>427</th>\n",
        "      <td>TGT</td>\n",
        "      <td>GOOG/NYSE_TGT</td>\n",
        "      <td>Target Corp</td>\n",
        "      <td>Consumer Discretionary</td>\n",
        "    </tr>\n",
        "  </tbody>\n",
        "</table>\n",
        "</div>"
       ],
       "metadata": {},
       "output_type": "pyout",
       "prompt_number": 75,
       "text": [
        "    Ticker               Code                      Name  \\\n",
        "306   MNST   GOOG/NASDAQ_MNST          Monster Beverage   \n",
        "141  DISCA  GOOG/NASDAQ_DISCA  Discovery Communications   \n",
        "188    FMC      GOOG/NYSE_FMC                  FMC Corp   \n",
        "146    DOW      GOOG/NYSE_DOW              Dow Chemical   \n",
        "12       A        GOOG/NYSE_A      Agilent Technologies   \n",
        "254    KMB      GOOG/NYSE_KMB            Kimberly-Clark   \n",
        "24      MO       GOOG/NYSE_MO              Altria Group   \n",
        "199     GM       GOOG/NYSE_GM            General Motors   \n",
        "454    UNH      GOOG/NYSE_UNH        UnitedHealth Group   \n",
        "427    TGT      GOOG/NYSE_TGT               Target Corp   \n",
        "\n",
        "                     Sector  \n",
        "306        Consumer Staples  \n",
        "141  Consumer Discretionary  \n",
        "188               Materials  \n",
        "146               Materials  \n",
        "12              Health Care  \n",
        "254        Consumer Staples  \n",
        "24         Consumer Staples  \n",
        "199  Consumer Discretionary  \n",
        "454             Health Care  \n",
        "427  Consumer Discretionary  "
       ]
      }
     ],
     "prompt_number": 75
    },
    {
     "cell_type": "code",
     "collapsed": false,
     "input": [
      "portfolio_ticker = [\"MNST\",\"DISCA\",\"FMC\",\"DOW\",\"A\",\"KMB\",\"MO\",\"GM\",\"UNH\",\"TGT\"]"
     ],
     "language": "python",
     "metadata": {},
     "outputs": [],
     "prompt_number": 76
    },
    {
     "cell_type": "code",
     "collapsed": false,
     "input": [
      "(i in 1:3) { x\"i\"= 1+i}"
     ],
     "language": "python",
     "metadata": {},
     "outputs": [
      {
       "metadata": {},
       "output_type": "pyout",
       "prompt_number": 77,
       "text": [
        "'DISCA'"
       ]
      }
     ],
     "prompt_number": 77
    },
    {
     "cell_type": "code",
     "collapsed": false,
     "input": [
      "d = {}\n",
      "for name in portfolio_ticker:\n",
      "    d[name] = pd.DataFrame(getstockdata(name))\n",
      "    \n",
      "    "
     ],
     "language": "python",
     "metadata": {},
     "outputs": [
      {
       "output_type": "stream",
       "stream": "stdout",
       "text": [
        "https://www.quandl.com/api/v3/datasets/WIKI/MNST.json?start_date=2015-08-17&end_date=2015-09-16\n",
        "https://www.quandl.com/api/v3/datasets/WIKI/DISCA.json?start_date=2015-08-17&end_date=2015-09-16"
       ]
      },
      {
       "output_type": "stream",
       "stream": "stdout",
       "text": [
        "\n",
        "https://www.quandl.com/api/v3/datasets/WIKI/FMC.json?start_date=2015-08-17&end_date=2015-09-16"
       ]
      },
      {
       "output_type": "stream",
       "stream": "stdout",
       "text": [
        "\n",
        "https://www.quandl.com/api/v3/datasets/WIKI/DOW.json?start_date=2015-08-17&end_date=2015-09-16"
       ]
      },
      {
       "output_type": "stream",
       "stream": "stdout",
       "text": [
        "\n",
        "https://www.quandl.com/api/v3/datasets/WIKI/A.json?start_date=2015-08-17&end_date=2015-09-16"
       ]
      },
      {
       "output_type": "stream",
       "stream": "stdout",
       "text": [
        "\n",
        "https://www.quandl.com/api/v3/datasets/WIKI/KMB.json?start_date=2015-08-17&end_date=2015-09-16"
       ]
      },
      {
       "output_type": "stream",
       "stream": "stdout",
       "text": [
        "\n",
        "https://www.quandl.com/api/v3/datasets/WIKI/MO.json?start_date=2015-08-17&end_date=2015-09-16"
       ]
      },
      {
       "output_type": "stream",
       "stream": "stdout",
       "text": [
        "\n",
        "https://www.quandl.com/api/v3/datasets/WIKI/GM.json?start_date=2015-08-17&end_date=2015-09-16"
       ]
      },
      {
       "output_type": "stream",
       "stream": "stdout",
       "text": [
        "\n",
        "https://www.quandl.com/api/v3/datasets/WIKI/UNH.json?start_date=2015-08-17&end_date=2015-09-16"
       ]
      },
      {
       "output_type": "stream",
       "stream": "stdout",
       "text": [
        "\n",
        "https://www.quandl.com/api/v3/datasets/WIKI/TGT.json?start_date=2015-08-17&end_date=2015-09-16"
       ]
      },
      {
       "output_type": "stream",
       "stream": "stdout",
       "text": [
        "\n"
       ]
      }
     ],
     "prompt_number": 230
    },
    {
     "cell_type": "code",
     "collapsed": false,
     "input": [
      "\n",
      "    \n",
      "\n",
      "\n"
     ],
     "language": "python",
     "metadata": {},
     "outputs": [],
     "prompt_number": 226
    },
    {
     "cell_type": "code",
     "collapsed": false,
     "input": [
      "d[\"A\"].Change = d[\"A\"].High- d[\"A\"].Low\n",
      "d[\"MNST\"].Change = d[\"MNST\"].High- d[\"MNST\"].Low\n",
      "d[\"DISCA\"].Change = d[\"DISCA\"].High- d[\"DISCA\"].Low\n",
      "d[\"KMB\"].Change = d['KMB'].High- d['KMB'].Low\n",
      "d[\"TGT\"].Change = d[\"TGT\"].High- d[\"TGT\"].Low\n",
      "d[\"MO\"].Change = d[\"MO\"].High- d[\"MO\"].Low\n",
      "d[\"UNH\"].Change = d[\"UNH\"].High- d[\"UNH\"].Low\n",
      "d[\"GM\"].Change = d[\"GM\"].High- d[\"GM\"].Low\n",
      "d[\"FMC\"].Change = d[\"FMC\"].High- d[\"FMC\"].Low\n",
      "d[\"DOW\"].Change = d[\"DOW\"].High- d[\"DOW\"].Low\n"
     ],
     "language": "python",
     "metadata": {},
     "outputs": [],
     "prompt_number": 241
    },
    {
     "cell_type": "code",
     "collapsed": false,
     "input": [
      "stock_change = pd.DataFrame()\n"
     ],
     "language": "python",
     "metadata": {},
     "outputs": [],
     "prompt_number": 232
    },
    {
     "cell_type": "code",
     "collapsed": false,
     "input": [
      "stock_change[\"Date\"] = d[\"A\"].Date\n",
      "stock_change[\"MNST\"] = d[\"MNST\"].Change\n",
      "stock_change[\"DISCA\"] = d[\"DISCA\"].Change\n",
      "stock_change[\"FMC\"] = d[\"FMC\"].Change\n",
      "stock_change[\"A\"] = d[\"A\"].Change\n",
      "stock_change[\"DOW\"] = d[\"DOW\"].Change\n",
      "stock_change[\"KMB\"] = d[\"KMB\"].Change\n",
      "stock_change[\"MO\"] = d[\"MO\"].Change\n",
      "stock_change[\"GM\"] = d[\"GM\"].Change\n",
      "stock_change[\"UNH\"] = d[\"UNH\"].Change\n",
      "stock_change[\"TGT\"] = d[\"TGT\"].Change"
     ],
     "language": "python",
     "metadata": {},
     "outputs": [],
     "prompt_number": 242
    },
    {
     "cell_type": "code",
     "collapsed": false,
     "input": [
      "portfolio_ticker"
     ],
     "language": "python",
     "metadata": {},
     "outputs": [
      {
       "metadata": {},
       "output_type": "pyout",
       "prompt_number": 238,
       "text": [
        "['MNST', 'DISCA', 'FMC', 'DOW', 'A', 'KMB', 'MO', 'GM', 'UNH', 'TGT']"
       ]
      }
     ],
     "prompt_number": 238
    },
    {
     "cell_type": "code",
     "collapsed": false,
     "input": [
      "stock_change.head()"
     ],
     "language": "python",
     "metadata": {},
     "outputs": [
      {
       "html": [
        "<div style=\"max-width:1500px;overflow:auto;\">\n",
        "<table border=\"1\" class=\"dataframe\">\n",
        "  <thead>\n",
        "    <tr style=\"text-align: right;\">\n",
        "      <th></th>\n",
        "      <th>Date</th>\n",
        "      <th>MNST</th>\n",
        "      <th>DISCA</th>\n",
        "      <th>FMC</th>\n",
        "      <th>A</th>\n",
        "      <th>KMB</th>\n",
        "      <th>MO</th>\n",
        "      <th>GM</th>\n",
        "      <th>UNH</th>\n",
        "      <th>TGT</th>\n",
        "      <th>DOW</th>\n",
        "    </tr>\n",
        "  </thead>\n",
        "  <tbody>\n",
        "    <tr>\n",
        "      <th>0</th>\n",
        "      <td>2015-09-15</td>\n",
        "      <td>3.030</td>\n",
        "      <td>0.590</td>\n",
        "      <td>0.700</td>\n",
        "      <td>0.785</td>\n",
        "      <td>1.83</td>\n",
        "      <td>1.9300</td>\n",
        "      <td>0.785</td>\n",
        "      <td>3.18</td>\n",
        "      <td>1.0900</td>\n",
        "      <td>0.810</td>\n",
        "    </tr>\n",
        "    <tr>\n",
        "      <th>1</th>\n",
        "      <td>2015-09-14</td>\n",
        "      <td>2.770</td>\n",
        "      <td>0.705</td>\n",
        "      <td>1.490</td>\n",
        "      <td>0.770</td>\n",
        "      <td>0.77</td>\n",
        "      <td>0.6499</td>\n",
        "      <td>0.710</td>\n",
        "      <td>2.35</td>\n",
        "      <td>1.2775</td>\n",
        "      <td>0.750</td>\n",
        "    </tr>\n",
        "    <tr>\n",
        "      <th>2</th>\n",
        "      <td>2015-09-11</td>\n",
        "      <td>1.858</td>\n",
        "      <td>0.640</td>\n",
        "      <td>0.755</td>\n",
        "      <td>0.520</td>\n",
        "      <td>0.92</td>\n",
        "      <td>0.9200</td>\n",
        "      <td>0.625</td>\n",
        "      <td>3.01</td>\n",
        "      <td>1.1700</td>\n",
        "      <td>0.745</td>\n",
        "    </tr>\n",
        "    <tr>\n",
        "      <th>3</th>\n",
        "      <td>2015-09-10</td>\n",
        "      <td>2.700</td>\n",
        "      <td>0.570</td>\n",
        "      <td>0.950</td>\n",
        "      <td>0.600</td>\n",
        "      <td>1.53</td>\n",
        "      <td>0.6600</td>\n",
        "      <td>1.275</td>\n",
        "      <td>3.21</td>\n",
        "      <td>1.1500</td>\n",
        "      <td>0.800</td>\n",
        "    </tr>\n",
        "    <tr>\n",
        "      <th>4</th>\n",
        "      <td>2015-09-09</td>\n",
        "      <td>12.040</td>\n",
        "      <td>0.930</td>\n",
        "      <td>1.750</td>\n",
        "      <td>1.360</td>\n",
        "      <td>3.58</td>\n",
        "      <td>1.2900</td>\n",
        "      <td>0.880</td>\n",
        "      <td>2.89</td>\n",
        "      <td>2.0900</td>\n",
        "      <td>1.630</td>\n",
        "    </tr>\n",
        "  </tbody>\n",
        "</table>\n",
        "</div>"
       ],
       "metadata": {},
       "output_type": "pyout",
       "prompt_number": 243,
       "text": [
        "        Date    MNST  DISCA    FMC      A   KMB      MO     GM   UNH     TGT  \\\n",
        "0 2015-09-15   3.030  0.590  0.700  0.785  1.83  1.9300  0.785  3.18  1.0900   \n",
        "1 2015-09-14   2.770  0.705  1.490  0.770  0.77  0.6499  0.710  2.35  1.2775   \n",
        "2 2015-09-11   1.858  0.640  0.755  0.520  0.92  0.9200  0.625  3.01  1.1700   \n",
        "3 2015-09-10   2.700  0.570  0.950  0.600  1.53  0.6600  1.275  3.21  1.1500   \n",
        "4 2015-09-09  12.040  0.930  1.750  1.360  3.58  1.2900  0.880  2.89  2.0900   \n",
        "\n",
        "     DOW  \n",
        "0  0.810  \n",
        "1  0.750  \n",
        "2  0.745  \n",
        "3  0.800  \n",
        "4  1.630  "
       ]
      }
     ],
     "prompt_number": 243
    },
    {
     "cell_type": "code",
     "collapsed": false,
     "input": [],
     "language": "python",
     "metadata": {},
     "outputs": []
    }
   ],
   "metadata": {}
  }
 ]
}