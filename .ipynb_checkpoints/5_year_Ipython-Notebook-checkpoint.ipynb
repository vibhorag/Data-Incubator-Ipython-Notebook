{
 "metadata": {
  "name": "",
  "signature": "sha256:092030ef4b8fbbb4dd085f0fbbe20697bc78748a561616a8759aa37736f48953"
 },
 "nbformat": 3,
 "nbformat_minor": 0,
 "worksheets": []
}